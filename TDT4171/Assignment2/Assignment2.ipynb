{
 "cells": [
  {
   "cell_type": "markdown",
   "metadata": {},
   "source": [
    "# Assigment 2"
   ]
  },
  {
   "cell_type": "markdown",
   "metadata": {},
   "source": [
    "### Imports"
   ]
  },
  {
   "cell_type": "code",
   "execution_count": 1,
   "metadata": {},
   "outputs": [],
   "source": [
    "import numpy as np"
   ]
  },
  {
   "cell_type": "markdown",
   "metadata": {},
   "source": [
    "## Part A\n",
    "Unobserved variables: Rain\n",
    "\n",
    "Observable variables: Umbrella\n",
    "\n",
    "\n",
    "Dynamic model: \n",
    "$$\n",
    "P(X_t | X_{t-1}) = \n",
    "\\begin{bmatrix} \n",
    "0.7 & 0.3\\\\\n",
    "0.3 & 0.7\n",
    "\\end{bmatrix}\n",
    "$$\n",
    "\n",
    "Observation model:\n",
    "$$\n",
    "P(E_t | X_t) = \n",
    "\\begin{bmatrix} \n",
    "0.9 & 0.1\\\\\n",
    "0.2 & 0.8\n",
    "\\end{bmatrix}\n",
    "$$\n",
    "\n",
    "Assumptions: \n",
    "- The Markov Assumption of the first degree is a somewhat reasonable assumption in the given circumstances.\n",
    "- The Sensor markov assumption of the usage of a umbrella is only dependent on the presence of rain is reasonable."
   ]
  },
  {
   "cell_type": "markdown",
   "metadata": {},
   "source": [
    "## Part B"
   ]
  },
  {
   "cell_type": "code",
   "execution_count": 2,
   "metadata": {},
   "outputs": [],
   "source": [
    "def forward(sensor_model, transition_model, message):\n",
    "    '''\n",
    "    Forward equation\n",
    "    :param sensor_model: The True/False sensor model as a numpy Matrix\n",
    "    :param transition_model: The transition model as a numpy Matrix\n",
    "    :param message: The previous forward message\n",
    "    :return: The normalized forward message\n",
    "    '''\n",
    "    forward_return = sensor_model * transition_model.getT() * message  # Equation 15.12\n",
    "    return forward_return/forward_return.sum()  # Normalization"
   ]
  },
  {
   "cell_type": "code",
   "execution_count": 3,
   "metadata": {},
   "outputs": [],
   "source": [
    "def forward_total(evidence, prior):\n",
    "    '''\n",
    "    Implementation of forward algorithm\n",
    "    :param evidence: The visible states given as an iterable\n",
    "    :param prior: The initial probability distribution \n",
    "    :return: The forward messages as a probability distribution in a matrix.\n",
    "    '''\n",
    "\n",
    "    # Models\n",
    "    transition_model = np.matrix([[0.7, 0.3], [0.3, 0.7]])\n",
    "    sensormodel_true = np.matrix([[0.9, 0.0], [0.0, 0.2]])\n",
    "    sensormodel_false = np.matrix([[0.1, 0.0], [0.0, 0.8]])\n",
    "\n",
    "    forward_message = [np.matrix([[0.0], [0.0]]) for i in range((len(evidence) + 1))]\n",
    "    backward_message = np.matrix([[1.0], [1.0]])\n",
    "\n",
    "\n",
    "    forward_message[0] = prior\n",
    "    smoothed_stepvector = [np.matrix([[0.0],[0.0]]) for i in range(len(evidence))]\n",
    "    t = len(evidence)\n",
    "\n",
    "    for i in range(1, t + 1):\n",
    "        if evidence[i-1]:\n",
    "            forward_message[i] = forward(sensormodel_true, transition_model, forward_message[i - 1])\n",
    "        else:\n",
    "            forward_message[i] = forward(sensormodel_false, transition_model, forward_message[i - 1])\n",
    "\n",
    "    return forward_message"
   ]
  },
  {
   "cell_type": "code",
   "execution_count": 17,
   "metadata": {},
   "outputs": [
    {
     "name": "stdout",
     "output_type": "stream",
     "text": [
      "0: [0.5]\n",
      " [0.5] \n",
      "\n",
      "1: [0.81818182]\n",
      " [0.18181818] \n",
      "\n",
      "2: [0.88335704]\n",
      " [0.11664296] \n",
      "\n",
      "3: [0.19066794]\n",
      " [0.80933206] \n",
      "\n",
      "4: [0.730794]\n",
      " [0.269206] \n",
      "\n",
      "5: [0.86733889]\n",
      " [0.13266111] \n",
      "\n"
     ]
    }
   ],
   "source": [
    "OG_msg = np.matrix('0.5; 0.5')\n",
    "evidence = [True, True, False, True, True]\n",
    "fm = forward_total(evidence, OG_msg)\n",
    "for n, i in enumerate(fm):\n",
    "    print(str(n) + ':', str(i)[1:-1], '\\n')"
   ]
  },
  {
   "cell_type": "markdown",
   "metadata": {},
   "source": [
    "As we can see, $P(X_2|e_{1:2}) = 0.883$,. which is consistent with the given values in the assignment. To explicitly answer the assignment question: The probability of rain on day 5 is 0.867."
   ]
  },
  {
   "cell_type": "markdown",
   "metadata": {},
   "source": [
    "## Part C"
   ]
  },
  {
   "cell_type": "code",
   "execution_count": 18,
   "metadata": {},
   "outputs": [],
   "source": [
    "def backward(sensor_model, transition_model, message):\n",
    "    '''\n",
    "    Backward algorithm\n",
    "    :param sensor_model: The True/False sensor model as a numpy Matrix\n",
    "    :param transition_model: The transition model as a numpy Matrix\n",
    "    :param message: The previous backward message\n",
    "    :return: The normalized backward message\n",
    "    '''\n",
    "    backward_return = transition_model * sensor_model * message # Equation 15.13\n",
    "    return backward_return/backward_return.sum()  # Normalization"
   ]
  },
  {
   "cell_type": "code",
   "execution_count": 19,
   "metadata": {},
   "outputs": [],
   "source": [
    "def forward_backward(evidence, prior):\n",
    "    '''\n",
    "    Implementation of Forward-Backward algorithm\n",
    "    :param evidence: The visible states given as an iterable\n",
    "    :param prior: The initial probability distribution\n",
    "    :return: The smoothed bacward probabilities\n",
    "    '''\n",
    "\n",
    "    # Models\n",
    "    transition_model = np.matrix([[0.7, 0.3], [0.3, 0.7]])\n",
    "    sensormodel_true = np.matrix([[0.9, 0.0], [0.0, 0.2]])\n",
    "    sensormodel_false = np.matrix([[0.1, 0.0], [0.0, 0.8]])\n",
    "\n",
    "    forward_message = [np.matrix([[0.0], [0.0]]) for i in range((len(evidence) + 1))]\n",
    "    backward_message = np.matrix([[1.0], [1.0]])\n",
    "\n",
    "\n",
    "    forward_message[0] = prior\n",
    "    smoothed_stepvector = [np.matrix([[0.0], [0.0]]) for i in range(len(evidence))]\n",
    "    t = len(evidence)\n",
    "\n",
    "    for i in range(1, t + 1):\n",
    "        if evidence[i-1]:\n",
    "            forward_message[i] = forward(sensormodel_true, transition_model, forward_message[i - 1])\n",
    "        else:\n",
    "            forward_message[i] = forward(sensormodel_false, transition_model, forward_message[i - 1])\n",
    "\n",
    "    for j in range(t - 1, -1, -1):\n",
    "        k = forward_message[j].getA()\n",
    "        l = backward_message.getA()\n",
    "\n",
    "        step = np.asmatrix(forward_message[j+1].getA() * backward_message.getA())\n",
    "\n",
    "        smoothed_stepvector[j] = step/step.sum()\n",
    "\n",
    "        if evidence[j]:\n",
    "            backward_message = backward(sensormodel_true, transition_model, backward_message)\n",
    "        else:\n",
    "            backward_message = backward(sensormodel_false, transition_model, backward_message)\n",
    "        # print(backward_message)\n",
    "    return smoothed_stepvector"
   ]
  },
  {
   "cell_type": "markdown",
   "metadata": {},
   "source": [
    "Verification:"
   ]
  },
  {
   "cell_type": "code",
   "execution_count": 22,
   "metadata": {},
   "outputs": [
    {
     "name": "stdout",
     "output_type": "stream",
     "text": [
      "b_(2:2) : [0.88335704]\n",
      " [0.11664296] \n",
      "\n",
      "b_(1:2) : [0.88335704]\n",
      " [0.11664296] \n",
      "\n"
     ]
    }
   ],
   "source": [
    "evidence = [True, True]\n",
    "fb = forward_backward(evidence, OG_msg)\n",
    "for k, i in enumerate(fb):\n",
    "    print(\"b_(\" + str(len(evidence) - k) + ':' + str(len(evidence)) + ')', ':', str(i)[1:-1], '\\n')"
   ]
  },
  {
   "cell_type": "code",
   "execution_count": 23,
   "metadata": {},
   "outputs": [
    {
     "name": "stdout",
     "output_type": "stream",
     "text": [
      "b_(5:5) : [0.86733889]\n",
      " [0.13266111] \n",
      "\n",
      "b_(4:5) : [0.82041905]\n",
      " [0.17958095] \n",
      "\n",
      "b_(3:5) : [0.30748358]\n",
      " [0.69251642] \n",
      "\n",
      "b_(2:5) : [0.82041905]\n",
      " [0.17958095] \n",
      "\n",
      "b_(1:5) : [0.86733889]\n",
      " [0.13266111] \n",
      "\n"
     ]
    }
   ],
   "source": [
    "evidence = [True, True, False, True, True]\n",
    "fb = forward_backward(evidence, OG_msg)\n",
    "for k, i in enumerate(fb):\n",
    "    print(\"b_(\" + str(len(evidence) - k) + ':' + str(len(evidence)) + ')', ':', str(i)[1:-1], '\\n')"
   ]
  },
  {
   "cell_type": "markdown",
   "metadata": {},
   "source": [
    "New function with printing of all backward messages:"
   ]
  },
  {
   "cell_type": "code",
   "execution_count": 27,
   "metadata": {},
   "outputs": [],
   "source": [
    "def forward_backward(evidence, prior):\n",
    "    '''\n",
    "    Implementation of Forward-Backward algorithm\n",
    "    :param evidence: The visible states given as an iterable\n",
    "    :param prior: The initial probability distribution\n",
    "    :return: The smoothed bacward probabilities\n",
    "    '''\n",
    "\n",
    "    # Models\n",
    "    transition_model = np.matrix([[0.7, 0.3], [0.3, 0.7]])\n",
    "    sensormodel_true = np.matrix([[0.9, 0.0], [0.0, 0.2]])\n",
    "    sensormodel_false = np.matrix([[0.1, 0.0], [0.0, 0.8]])\n",
    "\n",
    "    # Initial messages\n",
    "    forward_message = [np.matrix([[0.0], [0.0]]) for i in range((len(evidence) + 1))]\n",
    "    backward_message = np.matrix([[1.0], [1.0]])\n",
    "\n",
    "    \n",
    "    # Following the textbook's Pseudocode\n",
    "    forward_message[0] = prior\n",
    "    smoothed_stepvector = [np.matrix([[0.0], [0.0]]) for i in range(len(evidence))]\n",
    "    t = len(evidence)\n",
    "\n",
    "    for i in range(1, t + 1):\n",
    "        if evidence[i-1]:\n",
    "            forward_message[i] = forward(sensormodel_true, transition_model, forward_message[i - 1])\n",
    "        else:\n",
    "            forward_message[i] = forward(sensormodel_false, transition_model, forward_message[i - 1])\n",
    "\n",
    "    for j in range(t - 1, -1, -1):\n",
    "        k = forward_message[j].getA()\n",
    "        l = backward_message.getA()\n",
    "\n",
    "        step = np.asmatrix(forward_message[j+1].getA() * backward_message.getA())\n",
    "\n",
    "        smoothed_stepvector[j] = step/step.sum()\n",
    "\n",
    "        if evidence[j]:\n",
    "            backward_message = backward(sensormodel_true, transition_model, backward_message)\n",
    "        else:\n",
    "            backward_message = backward(sensormodel_false, transition_model, backward_message)\n",
    "        print(str(backward_message)[1:-1])\n",
    "        \n",
    "    return smoothed_stepvector"
   ]
  },
  {
   "cell_type": "code",
   "execution_count": 29,
   "metadata": {
    "scrolled": true
   },
   "outputs": [
    {
     "name": "stdout",
     "output_type": "stream",
     "text": [
      "[0.62727273]\n",
      " [0.37272727]\n",
      "[0.65334282]\n",
      " [0.34665718]\n",
      "[0.37626718]\n",
      " [0.62373282]\n",
      "[0.5923176]\n",
      " [0.4076824]\n",
      "[0.64693556]\n",
      " [0.35306444]\n"
     ]
    }
   ],
   "source": [
    "x = forward_backward(evidence, OG_msg)"
   ]
  },
  {
   "cell_type": "markdown",
   "metadata": {},
   "source": [
    "These are the bacward messages for each of the five steps."
   ]
  }
 ],
 "metadata": {
  "kernelspec": {
   "display_name": "Python 3",
   "language": "python",
   "name": "python3"
  },
  "language_info": {
   "codemirror_mode": {
    "name": "ipython",
    "version": 3
   },
   "file_extension": ".py",
   "mimetype": "text/x-python",
   "name": "python",
   "nbconvert_exporter": "python",
   "pygments_lexer": "ipython3",
   "version": "3.7.1"
  }
 },
 "nbformat": 4,
 "nbformat_minor": 2
}
