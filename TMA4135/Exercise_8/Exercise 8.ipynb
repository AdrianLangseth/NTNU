{
 "cells": [
  {
   "cell_type": "code",
   "execution_count": 1,
   "metadata": {},
   "outputs": [],
   "source": [
    "%matplotlib inline\n",
    "\n",
    "from numpy import *\n",
    "from matplotlib.pyplot import *\n",
    "from math import factorial\n",
    "newparams = {'figure.figsize': (8.0, 4.0), 'axes.grid': True,\n",
    "             'lines.markersize': 8, 'lines.linewidth': 2,\n",
    "             'font.size': 14}\n",
    "rcParams.update(newparams)"
   ]
  },
  {
   "cell_type": "markdown",
   "metadata": {},
   "source": [
    "1d"
   ]
  },
  {
   "cell_type": "code",
   "execution_count": 2,
   "metadata": {},
   "outputs": [],
   "source": [
    "def divdiff(xdata,ydata):\n",
    "    # Create the table of divided differences based\n",
    "    # on the data in the arrays x_data and y_data. \n",
    "    n = len(xdata)\n",
    "    F = zeros((n,n))\n",
    "    F[:,0] = ydata             # Array for the divided differences\n",
    "    for j in range(n):\n",
    "        for i in range(n-j-1):\n",
    "            F[i,j+1] = (F[i+1,j]-F[i,j])/(xdata[i+j+1]-xdata[i])\n",
    "    return F                    # Return all of F for inspection. \n",
    "                                # Only the first row is necessary for the\n",
    "                                # polynomial.\n",
    "\n",
    "def newton_interpolation(F, xdata, x):\n",
    "    # The Newton interpolation polynomial evaluated in x. \n",
    "    n, m = shape(F)\n",
    "    xpoly = ones(len(x))               # (x-x[0])(x-x[1])...\n",
    "    newton_poly = F[0,0]*ones(len(x))  # The Newton polynomial\n",
    "    for j in range(n-1):\n",
    "        xpoly = xpoly*(x-xdata[j])\n",
    "        newton_poly = newton_poly + F[0,j+1]*xpoly\n",
    "    return newton_poly"
   ]
  },
  {
   "cell_type": "code",
   "execution_count": 6,
   "metadata": {},
   "outputs": [],
   "source": [
    "def makexdataset(a,b,nodes):\n",
    "    xdata = []\n",
    "    h = (b-a)/(nodes-1)\n",
    "    for k in range(nodes - 1):\n",
    "        xdata.append(a + k*h)\n",
    "    xdata.append(b)\n",
    "    return xdata"
   ]
  },
  {
   "cell_type": "code",
   "execution_count": 11,
   "metadata": {},
   "outputs": [
    {
     "name": "stdout",
     "output_type": "stream",
     "text": [
      "inverse interpolation approximation with n= 2 :  1.6999999999999997 , error:  0.03205080756887746\n",
      "inverse interpolation approximation with n= 4 :  1.7346320346320347 , error:  0.002581227063157554\n",
      "inverse interpolation approximation with n= 8 :  1.7320459037416138 , error:  4.903827263369465e-06\n",
      "inverse interpolation approximation with n= 16 :  1.7320508092720444 , error:  1.7031671628586764e-09\n"
     ]
    }
   ],
   "source": [
    "def inverse_newton(n):\n",
    "    xdata = makexdataset(1,3,n+1)\n",
    "    ydata = [x**2 - 3 for x in xdata]\n",
    "\n",
    "    F = divdiff(ydata, xdata)\n",
    "\n",
    "    x = linspace(0,1,1)\n",
    "    p = newton_interpolation(F, ydata, x)\n",
    "    print(\"inverse interpolation approximation with n=\", n, \": \", p[0], \", error: \" , abs(p[0] - sqrt(3)))\n",
    "\n",
    "inverse_newton(2)\n",
    "inverse_newton(4)\n",
    "inverse_newton(8)\n",
    "inverse_newton(16)"
   ]
  },
  {
   "cell_type": "markdown",
   "metadata": {},
   "source": [
    "## 2c"
   ]
  },
  {
   "cell_type": "code",
   "execution_count": 3,
   "metadata": {},
   "outputs": [],
   "source": [
    "%matplotlib inline\n",
    "\n",
    "from numpy import *\n",
    "from matplotlib.pyplot import *\n",
    "from math import factorial\n",
    "newparams = {'figure.figsize': (8.0, 4.0), 'axes.grid': True,\n",
    "             'lines.markersize': 8, 'lines.linewidth': 2,\n",
    "             'font.size': 14}\n",
    "rcParams.update(newparams)"
   ]
  },
  {
   "cell_type": "code",
   "execution_count": 17,
   "metadata": {},
   "outputs": [],
   "source": [
    "def simpson(f, a, b, m=10):\n",
    "# Find an approximation to an integral by the composite Simpson's method:\n",
    "# Input:  \n",
    "#   f:    integrand\n",
    "#   a, b: integration interval\n",
    "#   m:    number of subintervals\n",
    "# Output: The approximation to the integral\n",
    "    n = 2*m\n",
    "    x_noder = linspace(a, b, n+1)       # equidistributed nodes from a to b \n",
    "    h = (b-a)/n                         # stepsize\n",
    "    S1 = f(x_noder[0]) + f(x_noder[n])  # S1 = f(x_0)+f(x_n)\n",
    "    S2 = sum(f(x_noder[1:n:2]))         # S2 = f(x_1)+f(x_3)+...+f(x_m)\n",
    "    S3 = sum(f(x_noder[2:n-1:2]))       # S3 = f(x_2)+f(x_4)+...+f(x_{m-1})\n",
    "    S = h*(S1 + 4*S2 + 2*S3)/3\n",
    "    return S"
   ]
  },
  {
   "cell_type": "code",
   "execution_count": 19,
   "metadata": {},
   "outputs": [
    {
     "name": "stdout",
     "output_type": "stream",
     "text": [
      "I = 0.31809237,  S = 0.31809238,  error = 3.866e-09\n"
     ]
    }
   ],
   "source": [
    "def f(x):\n",
    "    return e**(-x)\n",
    "\n",
    "a, b = 1, 3                # Integration interval\n",
    "I_exact = 1/e - 1/(e**3)              # Exact value of the integral (for comparision)\n",
    "S = simpson(f, a, b, 26)   # Numerical solution, using m subintervals   \n",
    "err = I_exact-S             # Error\n",
    "print('I = {:.8f},  S = {:.8f},  error = {:.3e}'.format(I_exact, S, abs(err)))"
   ]
  },
  {
   "cell_type": "markdown",
   "metadata": {},
   "source": [
    "As we can see, the error is lower than 10^8, following the guarantee."
   ]
  }
 ],
 "metadata": {
  "kernelspec": {
   "display_name": "Python 3",
   "language": "python",
   "name": "python3"
  },
  "language_info": {
   "codemirror_mode": {
    "name": "ipython",
    "version": 3
   },
   "file_extension": ".py",
   "mimetype": "text/x-python",
   "name": "python",
   "nbconvert_exporter": "python",
   "pygments_lexer": "ipython3",
   "version": "3.7.1"
  }
 },
 "nbformat": 4,
 "nbformat_minor": 2
}
