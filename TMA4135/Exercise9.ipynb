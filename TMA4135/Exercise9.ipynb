{
 "cells": [
  {
   "cell_type": "code",
   "execution_count": 1,
   "metadata": {},
   "outputs": [],
   "source": [
    "%matplotlib inline\n",
    "\n",
    "from numpy import *\n",
    "from numpy.linalg import solve, norm    # Solve linear systems and compute norms\n",
    "from matplotlib.pyplot import *\n",
    "newparams = {'figure.figsize': (8.0, 4.0), 'axes.grid': True,\n",
    "             'lines.markersize': 8, 'lines.linewidth': 2,\n",
    "             'font.size': 14}\n",
    "rcParams.update(newparams)"
   ]
  },
  {
   "cell_type": "markdown",
   "metadata": {},
   "source": [
    "## 1: Verify numerically the order of the composite Simpson’s formula. Include a convergence plot."
   ]
  },
  {
   "cell_type": "code",
   "execution_count": 2,
   "metadata": {},
   "outputs": [],
   "source": [
    "def simpson(f, a, b, m=10):\n",
    "# Find an approximation to an integral by the composite Simpson's method:\n",
    "# Input:  \n",
    "#   f:    integrand\n",
    "#   a, b: integration interval\n",
    "#   m:    number of subintervals\n",
    "# Output: The approximation to the integral\n",
    "    n = 2*m\n",
    "    x_noder = linspace(a, b, n+1)       # equidistributed nodes from a to b \n",
    "    h = (b-a)/n                         # stepsize\n",
    "    S1 = f(x_noder[0]) + f(x_noder[n])  # S1 = f(x_0)+f(x_n)\n",
    "    S2 = sum(f(x_noder[1:n:2]))         # S2 = f(x_1)+f(x_3)+...+f(x_m)\n",
    "    S3 = sum(f(x_noder[2:n-1:2]))       # S3 = f(x_2)+f(x_4)+...+f(x_{m-1})\n",
    "    S = h*(S1 + 4*S2 + 2*S3)/3\n",
    "    return S"
   ]
  },
  {
   "cell_type": "code",
   "execution_count": 3,
   "metadata": {},
   "outputs": [],
   "source": [
    "def approx_for_all_h(f, a, b, exact):\n",
    "    n = 1\n",
    "    h = (b - a) / n\n",
    "    steps = []\n",
    "    errors = []\n",
    "    nmax = 10\n",
    "    # Find Error\n",
    "    for i in range(nmax):\n",
    "        H_error = abs(exact - simpson(f,a,b,n))\n",
    "        print(f'h = {h:8.2e}, e(h) = {H_error:8.6e}')\n",
    "        steps.append(h)\n",
    "        errors.append(H_error)\n",
    "        n = 2*n\n",
    "        h = (b - a) / n\n",
    "        \n",
    "    print('\\n Order of P:')\n",
    "    # Find order\n",
    "    for k in range(1,nmax-1):\n",
    "        p = log(errors[k+1]/errors[k])/log(steps[k+1]/steps[k])\n",
    "        print(f'h = {steps[k]:8.2e},  p = {p:4.2f}')\n",
    "    \n",
    "        # Plott det hele\n",
    "    clf()\n",
    "    loglog(steps, errors, 'o-')\n",
    "    xlabel('h')\n",
    "    ylabel('e(h)')\n",
    "    title('Plott av feilen for Simpsons regel')\n",
    "    grid(True)"
   ]
  },
  {
   "cell_type": "code",
   "execution_count": 4,
   "metadata": {},
   "outputs": [
    {
     "name": "stdout",
     "output_type": "stream",
     "text": [
      "h = 2.00e+00, e(h) = 4.770858e-02\n",
      "h = 1.00e+00, e(h) = 3.371719e-03\n",
      "h = 5.00e-01, e(h) = 2.176196e-04\n",
      "h = 2.50e-01, e(h) = 1.371233e-05\n",
      "h = 1.25e-01, e(h) = 8.587707e-07\n",
      "h = 6.25e-02, e(h) = 5.370057e-08\n",
      "h = 3.12e-02, e(h) = 3.356714e-09\n",
      "h = 1.56e-02, e(h) = 2.098012e-10\n",
      "h = 7.81e-03, e(h) = 1.311262e-11\n",
      "h = 3.91e-03, e(h) = 8.194556e-13\n",
      "\n",
      " Order of P:\n",
      "h = 1.00e+00,  p = 3.95\n",
      "h = 5.00e-01,  p = 3.99\n",
      "h = 2.50e-01,  p = 4.00\n",
      "h = 1.25e-01,  p = 4.00\n",
      "h = 6.25e-02,  p = 4.00\n",
      "h = 3.12e-02,  p = 4.00\n",
      "h = 1.56e-02,  p = 4.00\n",
      "h = 7.81e-03,  p = 4.00\n"
     ]
    },
    {
     "data": {
      "image/png": "[encoded data removed]",
      "text/plain": [
       "<Figure size 432x288 with 1 Axes>"
      ]
     },
     "metadata": {
      "needs_background": "light"
     },
     "output_type": "display_data"
    }
   ],
   "source": [
    "# Funksjonen som tilnærmes\n",
    "def f1(x):\n",
    "    return x * exp(x)\n",
    "\n",
    "# Integrasjonsintervall og eksakt løsning\n",
    "a, b = -1, 1\n",
    "exact1 = 2 / exp(1)\n",
    "\n",
    "# Selve approksimeringen og plottingen\n",
    "approx_for_all_h(f1, a, b, exact1)"
   ]
  },
  {
   "cell_type": "markdown",
   "metadata": {},
   "source": [
    "This shows the composite Simpson’s formula is of 4th order."
   ]
  },
  {
   "cell_type": "markdown",
   "metadata": {},
   "source": [
    "### 1b: Repeat with f(x) = sqrt(1-x^2)e^x"
   ]
  },
  {
   "cell_type": "code",
   "execution_count": 5,
   "metadata": {},
   "outputs": [
    {
     "name": "stdout",
     "output_type": "stream",
     "text": [
      "h = 2.00e+00, e(h) = 4.421664e-01\n",
      "h = 1.00e+00, e(h) = 1.400960e-01\n",
      "h = 5.00e-01, e(h) = 4.663949e-02\n",
      "h = 2.50e-01, e(h) = 1.604128e-02\n",
      "h = 1.25e-01, e(h) = 5.600621e-03\n",
      "h = 6.25e-02, e(h) = 1.968458e-03\n",
      "h = 3.12e-02, e(h) = 6.939746e-04\n",
      "h = 1.56e-02, e(h) = 2.450144e-04\n",
      "h = 7.81e-03, e(h) = 8.656573e-05\n",
      "h = 3.91e-03, e(h) = 3.059507e-05\n",
      "\n",
      " Order of P:\n",
      "h = 1.00e+00,  p = 1.59\n",
      "h = 5.00e-01,  p = 1.54\n",
      "h = 2.50e-01,  p = 1.52\n",
      "h = 1.25e-01,  p = 1.51\n",
      "h = 6.25e-02,  p = 1.50\n",
      "h = 3.12e-02,  p = 1.50\n",
      "h = 1.56e-02,  p = 1.50\n",
      "h = 7.81e-03,  p = 1.50\n"
     ]
    },
    {
     "data": {
      "image/png": "[encoded data removed]",
      "text/plain": [
       "<Figure size 432x288 with 1 Axes>"
      ]
     },
     "metadata": {
      "needs_background": "light"
     },
     "output_type": "display_data"
    }
   ],
   "source": [
    "def f2(x):\n",
    "    return sqrt(1 - x ** 2) * exp(x)\n",
    "\n",
    "exact2 = 1.7754996892121809469\n",
    "   \n",
    "# Selve approksimeringen og plottingen\n",
    "approx_for_all_h(f2, a, b, exact2)"
   ]
  },
  {
   "cell_type": "markdown",
   "metadata": {},
   "source": [
    "Plot of integrals:"
   ]
  },
  {
   "cell_type": "code",
   "execution_count": 6,
   "metadata": {},
   "outputs": [
    {
     "data": {
      "image/png": "[encoded data removed]",
      "text/plain": [
       "<Figure size 432x288 with 2 Axes>"
      ]
     },
     "metadata": {
      "needs_background": "light"
     },
     "output_type": "display_data"
    }
   ],
   "source": [
    "x = linspace(a,b,101)\n",
    "subplot(2,1,1)\n",
    "plot(x,f1(x))\n",
    "xlabel('x')\n",
    "ylabel('f1(x)')\n",
    "\n",
    "subplot(2,1,2)\n",
    "plot(x, f2(x))\n",
    "xlabel('x')\n",
    "ylabel('f2(x)');"
   ]
  },
  {
   "cell_type": "code",
   "execution_count": 7,
   "metadata": {
    "scrolled": true
   },
   "outputs": [
    {
     "data": {
      "image/png": "[encoded data removed]",
      "text/plain": [
       "<Figure size 432x288 with 1 Axes>"
      ]
     },
     "metadata": {
      "needs_background": "light"
     },
     "output_type": "display_data"
    }
   ],
   "source": [
    "subplot(2,1,2)\n",
    "plot(x, f2(x))\n",
    "xlabel('x')\n",
    "ylabel('f2(x)');"
   ]
  },
  {
   "cell_type": "markdown",
   "metadata": {},
   "source": [
    "## 3: Given the equation:\n",
    "\n",
    "$$f(x) = e^x + x^2 − x − 4 = 0 $$"
   ]
  },
  {
   "cell_type": "markdown",
   "metadata": {},
   "source": [
    "### 3a: Prove that f has one and only one zero r in the interval; [1, 2].\n",
    "\n",
    "$$f'(x) = e^x + 2x - 1 $$\n",
    "\n",
    "f'(x) is strictly positive on the interval [1,2], meaning we have at most one zero on this interval.\n",
    "\n",
    "We have a continuous function, $ f(1) = e-4 < 0 $, $f(2) = e^2 - 1 > 0$, meaning we have one zero on the interval [1,2]."
   ]
  },
  {
   "cell_type": "markdown",
   "metadata": {},
   "source": [
    "#### Make a plot of f (x), x ∈ [1, 2], and find a rough approxima- tion to r from the plot."
   ]
  },
  {
   "cell_type": "code",
   "execution_count": 9,
   "metadata": {},
   "outputs": [
    {
     "data": {
      "image/png": "[encoded data removed]",
      "text/plain": [
       "<Figure size 432x288 with 1 Axes>"
      ]
     },
     "metadata": {
      "needs_background": "light"
     },
     "output_type": "display_data"
    }
   ],
   "source": [
    "def f(x):\n",
    "    return exp(x) + x**2 - x - 4\n",
    "\n",
    "def df(x):\n",
    "    return exp(x) + 2*x - 1\n",
    "\n",
    "x = linspace(1, 2, 101)\n",
    "plot(x, f(x))\n",
    "xlabel('x')\n",
    "ylabel('f(x)');"
   ]
  },
  {
   "cell_type": "markdown",
   "metadata": {},
   "source": [
    "The rough estimate from this is 1.3"
   ]
  },
  {
   "cell_type": "markdown",
   "metadata": {},
   "source": [
    "#### Find a numerical solution by the use of the function newton in the Jupyter note."
   ]
  },
  {
   "cell_type": "code",
   "execution_count": 10,
   "metadata": {},
   "outputs": [],
   "source": [
    "def newton(f, df, x0, tol=1.e-8, max_iter=30):\n",
    "    # Solve f(x)=0 by Newtons method\n",
    "    # The output of each iteration is printed\n",
    "    # Input:\n",
    "    #   f, df:   The function f and its derivate f'.\n",
    "    #   x0:  Initial values\n",
    "    #   tol: The tolerance\n",
    "    # Output:\n",
    "    #   The root and the number of iterations\n",
    "    x = x0\n",
    "    print('k ={:3d}, x = {:18.15f}, f(x) = {:10.3e}'.format(0, x, f(x)))\n",
    "    for k in range(max_iter):\n",
    "        fx = f(x)\n",
    "        if abs(fx) < tol:           # Accept the solution \n",
    "            break \n",
    "        x = x - fx/df(x)            # Newton-iteration\n",
    "        print('k ={:3d}, x = {:18.15f}, f(x) = {:10.3e}'.format(k+1, x, f(x)))\n",
    "    return x, k+1"
   ]
  },
  {
   "cell_type": "code",
   "execution_count": 11,
   "metadata": {},
   "outputs": [
    {
     "name": "stdout",
     "output_type": "stream",
     "text": [
      "k =  0, x =  1.300000000000000, f(x) =  5.930e-02\n",
      "k =  1, x =  1.288746758560088, f(x) =  3.581e-04\n",
      "k =  2, x =  1.288677969382023, f(x) =  1.332e-08\n",
      "k =  3, x =  1.288677966823868, f(x) = -4.441e-16\n",
      "\n",
      "With 4 iterations of Newton we got 1.289 som tilnærmet løsning.\n"
     ]
    }
   ],
   "source": [
    "x_0 = 1.3\n",
    "\n",
    "x,k = newton(f,df,x_0)\n",
    "\n",
    "print(f'\\nWith {k} iterations of Newton we got {x:.3f} som tilnærmet løsning.')"
   ]
  },
  {
   "cell_type": "markdown",
   "metadata": {},
   "source": [
    "### 3b: "
   ]
  },
  {
   "cell_type": "code",
   "execution_count": 12,
   "metadata": {},
   "outputs": [],
   "source": [
    "def fixpoint(g, x0, tol=1.e-8, max_iter=30):\n",
    "    # Solve x=g(x) by fixed point iterations\n",
    "    # The output of each iteration is printed\n",
    "    # Input:\n",
    "    #   g:   The function g(x)\n",
    "    #   x0:  Initial values\n",
    "    #   tol: The tolerance\n",
    "    # Output:\n",
    "    #   The root and the number of iterations\n",
    "    x = x0\n",
    "    print('k ={:3d}, x = {:14.10f}'.format(0, x))  \n",
    "    for k in range(max_iter):        \n",
    "        x_old = x                        # Store old values for error estimation \n",
    "        x = g(x)                         # The iteration\n",
    "        err = abs(x-x_old)               # Error estimate\n",
    "        print('k ={:3d}, x = {:14.10f}'.format(k+1, x))\n",
    "        if err < tol:          # The solution is accepted \n",
    "            break\n",
    "    return x, k+1"
   ]
  },
  {
   "cell_type": "code",
   "execution_count": 13,
   "metadata": {},
   "outputs": [
    {
     "name": "stdout",
     "output_type": "stream",
     "text": [
      "\n",
      "Function 1, \n",
      "k =  0, x =   1.5000000000\n",
      "k =  1, x =   1.1786549963\n",
      "k =  2, x =   1.3322149248\n",
      "k =  3, x =   1.2690350905\n",
      "k =  4, x =   1.2970764687\n",
      "k =  5, x =   1.2850003170\n",
      "k =  6, x =   1.2902719159\n",
      "k =  7, x =   1.2879840175\n",
      "k =  8, x =   1.2889795000\n",
      "k =  9, x =   1.2885468343\n",
      "k = 10, x =   1.2887349735\n",
      "k = 11, x =   1.2886531806\n",
      "k = 12, x =   1.2886887430\n",
      "k = 13, x =   1.2886732816\n",
      "k = 14, x =   1.2886800038\n",
      "k = 15, x =   1.2886770812\n",
      "k = 16, x =   1.2886783519\n",
      "k = 17, x =   1.2886777994\n",
      "k = 18, x =   1.2886780396\n",
      "k = 19, x =   1.2886779352\n",
      "k = 20, x =   1.2886779806\n",
      "k = 21, x =   1.2886779608\n",
      "k = 22, x =   1.2886779694\n",
      "0.0\n",
      "\n",
      "Function 2, \n",
      "k =  0, x =   1.5000000000\n",
      "k =  1, x =   1.0091139329\n",
      "k =  2, x =   1.5053054929\n",
      "k =  3, x =   0.9998878264\n",
      "k =  4, x =   1.5105995169\n",
      "k =  5, x =   0.9905322092\n",
      "k =  6, x =   1.5158710552\n",
      "k =  7, x =   0.9810634053\n",
      "k =  8, x =   1.5211088914\n",
      "k =  9, x =   0.9714992449\n",
      "k = 10, x =   1.5263017049\n",
      "k = 11, x =   0.9618589916\n",
      "k = 12, x =   1.5314381740\n",
      "k = 13, x =   0.9521632379\n",
      "k = 14, x =   1.5365070839\n",
      "k = 15, x =   0.9424337713\n",
      "k = 16, x =   1.5414974395\n",
      "k = 17, x =   0.9326934087\n",
      "k = 18, x =   1.5463985775\n",
      "k = 19, x =   0.9229658020\n",
      "k = 20, x =   1.5512002794\n",
      "k = 21, x =   0.9132752165\n",
      "k = 22, x =   1.5558928786\n",
      "k = 23, x =   0.9036462847\n",
      "k = 24, x =   1.5604673626\n",
      "k = 25, x =   0.8941037426\n",
      "k = 26, x =   1.5649154652\n",
      "k = 27, x =   0.8846721509\n",
      "k = 28, x =   1.5692297481\n",
      "k = 29, x =   0.8753756100\n",
      "k = 30, x =   1.5734036689\n",
      "1.7252\n",
      "\n",
      "Function 3, \n",
      "k =  0, x =   1.5000000000\n",
      "k =  1, x =   0.7788007831\n",
      "k =  2, x =   0.0731920437\n",
      "k =  3, x =   0.0198123285\n",
      "k =  4, x =   0.0186894676\n",
      "k =  5, x =   0.0186676867\n",
      "k =  6, x =   0.0186672649\n",
      "k =  7, x =   0.0186672567\n",
      "-2.9995\n"
     ]
    }
   ],
   "source": [
    "def g1(x):\n",
    "    return log(4 + x - x ** 2)\n",
    "\n",
    "def g2(x):\n",
    "    return sqrt(-exp(x) + x + 4)\n",
    "\n",
    "def g3(x):\n",
    "    return exp(x + x ** 2 - 4)\n",
    "\n",
    "funcs = [g1,g2,g3]\n",
    "x_0 = 1.5\n",
    "\n",
    "for n, func in enumerate(funcs, start=1):\n",
    "    print(f'\\nFunction {n}, ')\n",
    "    print(round(f(fixpoint(func, x_0)[0]), 4))"
   ]
  },
  {
   "cell_type": "markdown",
   "metadata": {},
   "source": [
    "g1 converges to a solution.\n",
    "g2 does not converge.\n",
    "g3 converges, however it converges to a number which is not a solution for f."
   ]
  },
  {
   "cell_type": "markdown",
   "metadata": {},
   "source": [
    " ## 4: Fixed points"
   ]
  },
  {
   "cell_type": "markdown",
   "metadata": {},
   "source": [
    "4a) Let $g(x)$ be a continuous function with continuous derivatives on $(a, b)$ and suppose that it has an inverse $g^{−1}(x)$. Show that if $r \\in (a, b)$ is a fixed-point of $g(x)$, then $r$ is also a fixed-point of $g^{−1}(x)$.\n",
    "\n",
    "Inverse means that $g^{-1}(g(x)) = x = g(g^{-1}(x))$.\n",
    "\n",
    "A fixed point on g defined as $g(r) = r$\n",
    "\n",
    "\\begin{align}\n",
    "    g^{-1}(g(x)) &= x\n",
    "    \\\\ g^{-1}(g(r)) &= r\n",
    "    \\\\ g(r) &= r\n",
    "    \\\\ g^{-1}(r) &= r\n",
    "\\end{align}\n"
   ]
  },
  {
   "cell_type": "markdown",
   "metadata": {},
   "source": [
    "This means a fixed point in $g$ also is a fixed point for the inverse."
   ]
  },
  {
   "cell_type": "markdown",
   "metadata": {},
   "source": [
    "\n",
    "\\begin{align}\n",
    "    g(g^{-1}(x)) &= x\n",
    "    \\\\ \\frac{d}{dx}(g(g^{-1}(x))) &= \\frac{d}{dx}x\n",
    "    \\\\ (\\frac{d}{dx}g(g^{-1}(x)))(\\frac{d}{dx}g^{-1}(x)) &= 1\n",
    "    \\\\ \\frac{d}{dx}g^{-1}(x) &= \\frac{1}{\\frac{d}{dx}g(g^{-1}(x))}\n",
    "    \\\\ \\frac{d}{dx}g^{-1}(x) &= \\frac{1}{g'(g^{-1}(x))}\n",
    "\\end{align}"
   ]
  },
  {
   "cell_type": "markdown",
   "metadata": {},
   "source": [
    "We now substitute $x = r$ and use the definition of the fixed point:\n",
    "\n",
    "\\begin{align}\n",
    "    \\frac{d}{dx}g^{-1}(x) &= \\frac{1}{g'(g^{-1}(x))}\n",
    "    \\\\ \\frac{d}{dx}g^{-1}(r) &= \\frac{1}{g'(g^{-1}(r))}\n",
    "    \\\\ (g^{-1})'(r) &= \\frac{1}{g'(r)}\n",
    "\\end{align}\n",
    "\n",
    "This shows that $$g'(r) > 1 \\iff (g^{-1})'(r) < 1 $$ and $$g'(r) < 1 \\iff (g^{-1})'(r) > 1 $$."
   ]
  },
  {
   "cell_type": "markdown",
   "metadata": {},
   "source": [
    "Meaning we have proved that if $|g′(r)| > 1$, then $|(g−1)′(r)| < 1$."
   ]
  },
  {
   "cell_type": "code",
   "execution_count": 14,
   "metadata": {},
   "outputs": [],
   "source": [
    "def g(x):\n",
    "    return arccos(x)\n",
    "\n",
    "def g_inv(x):\n",
    "    return cos(x)"
   ]
  },
  {
   "cell_type": "code",
   "execution_count": 15,
   "metadata": {},
   "outputs": [
    {
     "name": "stdout",
     "output_type": "stream",
     "text": [
      "k =  0, x =   1.5700000000\n",
      "k =  1, x =   0.0007963267\n",
      "k =  2, x =   0.9999996829\n",
      "k =  3, x =   0.5403025727\n",
      "k =  4, x =   0.8575530786\n",
      "k =  5, x =   0.6542898943\n",
      "k =  6, x =   0.7934802956\n",
      "k =  7, x =   0.7013688186\n",
      "k =  8, x =   0.7639596538\n",
      "k =  9, x =   0.7221024451\n",
      "k = 10, x =   0.7504177485\n",
      "k = 11, x =   0.7314040515\n",
      "k = 12, x =   0.7442373488\n",
      "k = 13, x =   0.7356047445\n",
      "k = 14, x =   0.7414250839\n",
      "k = 15, x =   0.7375068924\n",
      "k = 16, x =   0.7401473343\n",
      "k = 17, x =   0.7383692050\n",
      "k = 18, x =   0.7395672016\n",
      "k = 19, x =   0.7387603203\n",
      "k = 20, x =   0.7393038921\n",
      "k = 21, x =   0.7389377569\n",
      "k = 22, x =   0.7391843997\n",
      "k = 23, x =   0.7390182625\n",
      "k = 24, x =   0.7391301765\n",
      "k = 25, x =   0.7390547908\n",
      "k = 26, x =   0.7391055719\n",
      "k = 27, x =   0.7390713653\n",
      "k = 28, x =   0.7390944074\n",
      "k = 29, x =   0.7390788860\n",
      "k = 30, x =   0.7390893414\n"
     ]
    }
   ],
   "source": [
    "x,k = fixpoint(g_inv,1.57)"
   ]
  },
  {
   "cell_type": "markdown",
   "metadata": {},
   "source": [
    "This means that $cos(x)$ has a fixed point in 0.739, which in turn means that our function $arccos(x)$ has a fixed point in 0.739 ."
   ]
  },
  {
   "cell_type": "markdown",
   "metadata": {},
   "source": [
    "### 5a) Write down Newton’s method applied to the system of equations with 2 iterations."
   ]
  },
  {
   "cell_type": "markdown",
   "metadata": {},
   "source": [
    "\n",
    "\\begin{align}\n",
    "    x^2 + y^2 &= 4\n",
    "    \\\\ xy &= 1\n",
    "\\end{align}\n",
    "\n",
    "$$\n",
    "\\begin{pmatrix}\n",
    "    x_0\n",
    "    \\\\ y_0\n",
    "\\end{pmatrix}\n",
    "=\n",
    "\\begin{pmatrix}\n",
    "    2\n",
    "    \\\\ 0\n",
    "\\end{pmatrix}\n",
    "$$\n"
   ]
  },
  {
   "cell_type": "markdown",
   "metadata": {},
   "source": [
    "$$\n",
    "f(\\mathcal{X}) = \n",
    "\\begin{bmatrix}\n",
    "    x^2 + y^2 - 4\n",
    "    \\\\ xy - 1\n",
    "\\end{bmatrix}\n",
    "$$\n",
    "\n",
    "$$\n",
    "J[f](\\mathcal{X}) = \n",
    "\\begin{bmatrix}\n",
    "    2x + y^2 & x^2 + 2y\n",
    "    \\\\ y & x\n",
    "\\end{bmatrix}\n",
    "$$\n",
    "\n",
    "$$\n",
    "J(\\mathcal{X}_k) \\Delta_k = -f(\\mathcal{X}_k)\n",
    "$$\n",
    "$$\n",
    "\\mathcal{X}_{k+1} = \\mathcal{X}_{k} + \\Delta_k\n",
    "$$"
   ]
  },
  {
   "cell_type": "markdown",
   "metadata": {},
   "source": [
    "$$\n",
    "J(\\mathcal{X}_0) \\Delta_0 = -f(\\mathcal{X}_0)\n",
    "$$\n",
    "\n",
    "$$ \n",
    "\\begin{bmatrix}\n",
    "    2*2 + 0^2 & 2^2 + 2*0\n",
    "    \\\\ 0 & 2\n",
    "\\end{bmatrix}\n",
    "\\Delta_0\n",
    "= -\n",
    "\\begin{bmatrix}\n",
    "    4 - 4\n",
    "    \\\\ - 1\n",
    "\\end{bmatrix}\n",
    "$$\n",
    "\n",
    "$$\n",
    "\\left[\\begin{array}{c c|c}\n",
    "\t4 & 4 & 0\\\\\n",
    "\t0 & 2 & 1\n",
    "\\end{array}\\right]\n",
    "\\sim\n",
    "\\left[\\begin{array}{c c|c}\n",
    "\t1 & 0 & 1/2 \\\\\n",
    "\t0 & 1 & 1/2\n",
    "\\end{array}\\right]\n",
    "\\implies \\Delta_k = \n",
    "\\begin{bmatrix}\n",
    "    -1/2\n",
    "    \\\\ 1/2\n",
    "\\end{bmatrix}\n",
    "$$\n",
    "\n",
    "$$\n",
    "\\mathcal{X}_1 = \n",
    "\\begin{bmatrix}\n",
    "    2\n",
    "    \\\\ 0\n",
    "\\end{bmatrix}\n",
    "+\n",
    "\\begin{bmatrix}\n",
    "    -1/2\n",
    "    \\\\ 1/2\n",
    "\\end{bmatrix}\n",
    "=\n",
    "\\begin{bmatrix}\n",
    "    3/2\n",
    "    \\\\ 1/2\n",
    "\\end{bmatrix}\n",
    "$$\n",
    "\n",
    " \n",
    "We have now reached a value for the first iteration."
   ]
  },
  {
   "cell_type": "markdown",
   "metadata": {},
   "source": [
    "We now redo for second iteration.\n",
    "\n",
    "  \n",
    "\n",
    "$$\n",
    "J(\\mathcal{X}_1) \\Delta_1 = -f(\\mathcal{X}_1)\n",
    "$$\n",
    "\n",
    "$$ \n",
    "\\begin{bmatrix}\n",
    "    2*3/2 + (1/2)^2 & (3/2)^2 + 2*1/2\n",
    "    \\\\ 1/2 & 3/2\n",
    "\\end{bmatrix}\n",
    "\\Delta_1\n",
    "= -\n",
    "\\begin{bmatrix}\n",
    "    9/4 + 1/4 - 4\n",
    "    \\\\ 3/4 - 1\n",
    "\\end{bmatrix}\n",
    "$$\n",
    "\n",
    "$$ \n",
    "\\begin{bmatrix}\n",
    "    13/4 & 13/4\n",
    "    \\\\ 1/2 & 3/2\n",
    "\\end{bmatrix}\n",
    "\\Delta_1\n",
    "= -\n",
    "\\begin{bmatrix}\n",
    "    6/4\n",
    "    \\\\ 1/4\n",
    "\\end{bmatrix}\n",
    "$$\n",
    "\n",
    "$$\n",
    "\\left[\\begin{array}{c c|c}\n",
    "\t13/4 & 13/4 & -6/4\\\\\n",
    "\t2 & 6 & -1\n",
    "\\end{array}\\right]\n",
    "\\sim\n",
    "\\left[\\begin{array}{c c|c}\n",
    "\t1 & 1 & -6/13 \\\\\n",
    "\t2 & 6 & -1\n",
    "\\end{array}\\right]\n",
    "\\sim\n",
    "\\left[\\begin{array}{c c|c}\n",
    "\t1 & 1 & -6/13 \\\\\n",
    "\t0 & 1 & -1/52\n",
    "\\end{array}\\right]\n",
    "\\sim\n",
    "\\left[\\begin{array}{c c|c}\n",
    "\t1 & 0 & -23/52 \\\\\n",
    "\t0 & 1 & -1/52\n",
    "\\end{array}\\right]\n",
    "\\implies \\Delta_k = \n",
    "\\begin{bmatrix}\n",
    "    23/52\n",
    "    \\\\ -1/52\n",
    "\\end{bmatrix}\n",
    "$$\n",
    "\n",
    "$$\n",
    "\\mathcal{X}_2 = \n",
    "\\begin{bmatrix}\n",
    "    3/2\n",
    "    \\\\ 1/2\n",
    "\\end{bmatrix}\n",
    "+\n",
    "\\begin{bmatrix}\n",
    "    23/52\n",
    "    \\\\ -1/52\n",
    "\\end{bmatrix}\n",
    "=\n",
    "\\underline{\\underline{\n",
    "\\begin{bmatrix}\n",
    "   101/52\n",
    "    \\\\ 25/52\n",
    "\\end{bmatrix}}}\n",
    "$$"
   ]
  },
  {
   "cell_type": "markdown",
   "metadata": {},
   "source": [
    "### 5b: Find an approximation to the solution by using the function newton_sys"
   ]
  },
  {
   "cell_type": "code",
   "execution_count": 17,
   "metadata": {},
   "outputs": [],
   "source": [
    "set_printoptions(precision=15)"
   ]
  },
  {
   "cell_type": "code",
   "execution_count": 18,
   "metadata": {},
   "outputs": [],
   "source": [
    "def newton_system(f, jac, x0, tol = 1.e-10, max_iter=20):\n",
    "    x = x0\n",
    "    print('k ={:3d}, x = '.format(0), x)\n",
    "    for k in range(max_iter):\n",
    "        fx = f(x)\n",
    "        if norm(fx, inf) < tol:          # The solution is accepted. \n",
    "            break\n",
    "        Jx = jac(x)\n",
    "        delta = solve(Jx, -fx) \n",
    "        x = x + delta            \n",
    "        print('k ={:3d}, x = '.format(k+1), x)\n",
    "    return x, k"
   ]
  },
  {
   "cell_type": "code",
   "execution_count": 24,
   "metadata": {},
   "outputs": [
    {
     "name": "stdout",
     "output_type": "stream",
     "text": [
      "k =  0, x =  [2 0]\n",
      "k =  1, x =  [1.5 0.5]\n",
      "k =  2, x =  [1.942307692307692 0.519230769230769]\n",
      "k =  3, x =  [1.934954069472256 0.516817305114424]\n",
      "k =  4, x =  [1.931072944087003 0.517844763641189]\n",
      "k =  5, x =  [1.932048989612196 0.517585088122218]\n",
      "k =  6, x =  [1.931800888907705 0.517651684094069]\n",
      "k =  7, x =  [1.931864662472829 0.517634603673892]\n",
      "k =  8, x =  [1.931848315185697 0.517638984421126]\n",
      "k =  9, x =  [1.931852508501114 0.517637860858834]\n",
      "k = 10, x =  [1.931851433050457 0.517638149027152]\n",
      "k = 11, x =  [1.931851708881834 0.517638075118501]\n",
      "k = 12, x =  [1.9318516381375   0.517638094074398]\n",
      "k = 13, x =  [1.931851656281832 0.517638089212639]\n",
      "k = 14, x =  [1.931851651628222 0.51763809045957 ]\n",
      "k = 15, x =  [1.931851652821768 0.517638090139761]\n",
      "k = 16, x =  [1.931851652515651 0.517638090221785]\n",
      "k = 17, x =  [1.931851652594163 0.517638090200747]\n",
      "k = 18, x =  [1.931851652574026 0.517638090206143]\n",
      "k = 19, x =  [1.931851652579191 0.517638090204759]\n",
      "k = 20, x =  [1.931851652577866 0.517638090205114]\n",
      "\n",
      "Test: f(x)=[-9.694467451026867e-13  0.000000000000000e+00]\n"
     ]
    }
   ],
   "source": [
    "def f(x):               \n",
    "    y = array([x[0]**2 + x[1]**2 - 4, \n",
    "               x[0]*x[1] - 1])\n",
    "    return y\n",
    "\n",
    "def jac(x):\n",
    "    J = array([[2*x[0] + x[1]**2, x[0]**2 + 2*x[1]],\n",
    "         [x[1],    x[0]]])\n",
    "    return J\n",
    "\n",
    "x0 = array([2, 0])          # Starting values\n",
    "max_iter = 20\n",
    "x, nit = newton_system(f, jac, x0, tol = 1.e-12, max_iter = max_iter)  # Apply Newton's method\n",
    "  \n",
    "print('\\nTest: f(x)={}'.format(f(x)))\n",
    "if nit == max_iter:\n",
    "    printf('Warning: Convergence har not been achieved')"
   ]
  },
  {
   "cell_type": "markdown",
   "metadata": {},
   "source": [
    "The results match the ones of the non-computational workings.\n",
    "\n"
   ]
  },
  {
   "cell_type": "markdown",
   "metadata": {},
   "source": [
    "### Use newton_sys to solve the slightly perturbed problem:\n",
    "\n",
    "\\begin{align}\n",
    "    x^2 + y^2 &= 2\n",
    "    \\\\ xy &= 1\n",
    "\\end{align}"
   ]
  },
  {
   "cell_type": "code",
   "execution_count": 26,
   "metadata": {},
   "outputs": [
    {
     "name": "stdout",
     "output_type": "stream",
     "text": [
      "k =  0, x =  [2 0]\n",
      "k =  1, x =  [1.  0.5]\n",
      "k =  2, x =  [0.8 1.1]\n",
      "k =  3, x =  [1.052054794520548 0.903424657534247]\n",
      "k =  4, x =  [0.9080781203748   1.074157052863439]\n",
      "k =  5, x =  [1.015813361106975 0.973787839927933]\n",
      "k =  6, x =  [0.91997149397017  1.076309572835665]\n",
      "k =  7, x =  [0.99213785239008  1.002560039785175]\n",
      "k =  8, x =  [1.166995847331044 0.831229611538886]\n",
      "k =  9, x =  [1.017170285381904 0.963619061909634]\n",
      "k = 10, x =  [0.883667169914659 1.109594099541358]\n",
      "k = 11, x =  [0.985455545920474 1.003835209434926]\n",
      "k = 12, x =  [1.188988963675573 0.807429611873142]\n",
      "k = 13, x =  [1.016927793067913 0.957895589443796]\n",
      "k = 14, x =  [0.861732408970976 1.129540348644775]\n",
      "k = 15, x =  [0.9806747464577 1.0045459839213]\n",
      "k = 16, x =  [1.199114430653456 0.79594921285738 ]\n",
      "k = 17, x =  [1.016349391048784 0.955264702124353]\n",
      "k = 18, x =  [0.849399151070507 1.140829798762366]\n",
      "k = 19, x =  [0.97764255070075  1.005058819674244]\n",
      "k = 20, x =  [1.201804642214724 0.792420412073888]\n",
      "\n",
      "Test: f(x)=[ 0.072264507520212 -0.047665470183897]\n"
     ]
    }
   ],
   "source": [
    "def f(x):               \n",
    "    y = array([x[0]**2 + x[1]**2 - 2, \n",
    "               x[0]*x[1] - 1])\n",
    "    return y\n",
    "\n",
    "def jac(x):\n",
    "    J = array([[2*x[0] + x[1]**2, x[0]**2 + 2*x[1]],\n",
    "         [x[1],    x[0]]])\n",
    "    return J\n",
    "\n",
    "x0 = array([2, 0])          # Starting values\n",
    "max_iter = 20\n",
    "x, nit = newton_system(f, jac, x0, tol = 1.e-12, max_iter = max_iter)  # Apply Newton's method\n",
    "  \n",
    "print('\\nTest: f(x)={}'.format(f(x)))\n",
    "if nit == max_iter:\n",
    "    printf('Warning: Convergence har not been achieved')"
   ]
  },
  {
   "cell_type": "code",
   "execution_count": null,
   "metadata": {},
   "outputs": [],
   "source": []
  }
 ],
 "metadata": {
  "kernelspec": {
   "display_name": "Python 3",
   "language": "python",
   "name": "python3"
  },
  "language_info": {
   "codemirror_mode": {
    "name": "ipython",
    "version": 3
   },
   "file_extension": ".py",
   "mimetype": "text/x-python",
   "name": "python",
   "nbconvert_exporter": "python",
   "pygments_lexer": "ipython3",
   "version": "3.7.1"
  }
 },
 "nbformat": 4,
 "nbformat_minor": 2
}
