{
 "cells": [
  {
   "cell_type": "markdown",
   "metadata": {},
   "source": [
    "$\\newcommand{mb}[1]{\\mathbf{#1}}$"
   ]
  },
  {
   "cell_type": "markdown",
   "metadata": {},
   "source": [
    "## Task 1a: Do two iterations on each of the two iteration schemes on the linear systems of equations:\n",
    "\n",
    "$$\n",
    "A x = b\n",
    "$$\n",
    "\n",
    "$$\n",
    "A = \n",
    "\\begin{bmatrix}\n",
    "    3 & 1 & 1\n",
    "    \\\\ 1 & 3 & -1\n",
    "    \\\\ 3 & 1 & -5\n",
    "\\end{bmatrix}\n",
    "$$\n",
    "\n",
    "$$\n",
    "b = \n",
    "\\begin{bmatrix}\n",
    "    5\n",
    "    \\\\ 3\n",
    "    \\\\ -1\n",
    "\\end{bmatrix}\n",
    "$$\n",
    "\n",
    "$$\n",
    "x^{(0)} = 0\n",
    "$$"
   ]
  },
  {
   "cell_type": "markdown",
   "metadata": {},
   "source": [
    "#### Method 1\n",
    "\n",
    "$$\n",
    "x_i^{(k+1)} = \\frac{1}{a_{ii}}(b_i - \\sum_{j=1, j \\neq i}^{n} a_{ij}x_j^{(k)})\n",
    "$$\n",
    "\n",
    "$$\n",
    "x^{(0)} = 0\n",
    "$$\n",
    "\n",
    "$$\n",
    "x_1^{(1)} = \\frac{1}{3}(5-(1*0 + 1*0)) = \\frac{5}{3}\n",
    "$$\n",
    "$$\n",
    "x_2^{(1)} = \\frac{1}{3}(3-(0)) = 1\n",
    "$$\n",
    "$$\n",
    "x_3^{(1)} = \\frac{1}{-5}((-1)-(0)) = \\frac{1}{5}\n",
    "$$\n",
    "\n",
    "$$\n",
    "x^{(1)} = \n",
    "\\begin{bmatrix}\n",
    "    \\frac{5}{3}\n",
    "    \\\\ 1\n",
    "    \\\\ \\frac{1}{5}\n",
    "\\end{bmatrix}\n",
    "$$"
   ]
  },
  {
   "cell_type": "markdown",
   "metadata": {},
   "source": [
    "$$\n",
    "x_1^{(2)} = \\frac{1}{3}(5-(1*1 + 1*\\frac{1}{5})) = \\frac{1}{3}(5 - 1 - \\frac{1}{5}) = \\frac{19}{15}\n",
    "$$\n",
    "$$\n",
    "x_2^{(2)} = \\frac{1}{3}(3-(1*\\frac{5}{3} - 1*\\frac{1}{5})) = \\frac{1}{3}(3 - \\frac{5}{3} + \\frac{1}{5}) = \\frac{23}{45}\n",
    "$$\n",
    "$$\n",
    "x_3^{(2)} = \\frac{1}{-5}((-1)-(3*\\frac{5}{3} + 1*1) = \\frac{1}{-5}((-1)-(5 + 1) = \\frac{7}{5}\n",
    "$$\n",
    "\n",
    "$$\n",
    "x^{(2)} = \n",
    "\\begin{bmatrix}\n",
    "    \\frac{19}{15}\n",
    "    \\\\ \\frac{23}{45}\n",
    "    \\\\ \\frac{7}{5}\n",
    "\\end{bmatrix}\n",
    "$$"
   ]
  },
  {
   "cell_type": "markdown",
   "metadata": {},
   "source": [
    "#### Method 2\n",
    "\n",
    "$$\n",
    "x_i^{(k+1)} = \\frac{1}{a_{ii}}(b_i - \\sum_{j=1}^{i-1} a_{ij}x_j^{(k+1)} - \\sum_{j=i+1}^{n} a_{ij}x_j^{(k)})\n",
    "$$\n",
    "\n",
    "$$\n",
    "x^{(0)} = 0\n",
    "$$\n",
    "\n",
    "$$\n",
    "x_1^{(1)} = \\frac{1}{3}(5-(1*0 + 1*0)) = \\frac{5}{3}\n",
    "$$\n",
    "$$\n",
    "x_2^{(1)} = \\frac{1}{3}(3-(1*\\frac{5}{3} - 1*0)) = \\frac{4}{9}\n",
    "$$\n",
    "$$\n",
    "x_3^{(1)} = \\frac{1}{-5}((-1)-(3*\\frac{5}{3} + 1*\\frac{4}{9})) = \\frac{58}{45}\n",
    "$$\n",
    "\n",
    "$$\n",
    "x^{(1)} = \n",
    "\\begin{bmatrix}\n",
    "    \\frac{5}{3}\n",
    "    \\\\ \\frac{4}{9}\n",
    "    \\\\ \\frac{58}{45}\n",
    "\\end{bmatrix}\n",
    "$$"
   ]
  },
  {
   "cell_type": "markdown",
   "metadata": {},
   "source": [
    "$$\n",
    "x_1^{(2)} = \\frac{1}{3}(5-(1*\\frac{4}{9} + 1*\\frac{58}{45})) = \\frac{49}{45}\n",
    "$$\n",
    "$$\n",
    "x_2^{(2)} = \\frac{1}{3}(3-(1*\\frac{49}{45} - 1*\\frac{58}{45})) = \\frac{16}{15}\n",
    "$$\n",
    "$$\n",
    "x_3^{(2)} = \\frac{1}{-5}((-1)-(3*\\frac{49}{45} + 1*\\frac{16}{15})) = \\frac{16}{15}\n",
    "$$\n",
    "\n",
    "\n",
    "After two iterations of Gauss-Seidel, we get the solution:\n",
    "$$\n",
    "x^{(2)} = \n",
    "\\begin{bmatrix}\n",
    "    \\frac{49}{45}\n",
    "    \\\\ \\frac{16}{15}\n",
    "    \\\\ \\frac{16}{15}\n",
    "\\end{bmatrix}\n",
    "$$"
   ]
  },
  {
   "cell_type": "markdown",
   "metadata": {},
   "source": [
    "### Task 1b: Is the matrix A from a) strictly diagonal dominant?\n",
    "\n",
    "i=1: |3| > |1|+|1|\n",
    "i=2: |3| > |1|+|-1|\n",
    "i=1: |-5| > |3|+|1|\n",
    "\n",
    "A is strictly diagonally dominant."
   ]
  },
  {
   "cell_type": "markdown",
   "metadata": {},
   "source": [
    "### Task 1c: Prove that the Jacobi-iterations will converge for all choices of starting values if the coefficient matrix A is diagonal dominant.\n",
    "\n",
    "I have no idea where to start."
   ]
  },
  {
   "cell_type": "markdown",
   "metadata": {},
   "source": [
    "## Task 2: Consider the initial value problem\n",
    "\n",
    "$$\n",
    "y' - xy^2 = 0, y(0) = 1\n",
    "$$"
   ]
  },
  {
   "cell_type": "markdown",
   "metadata": {},
   "source": [
    "### 2a: Find the exact solution to the equation\n",
    "\n",
    "$$\n",
    "\\frac{1}{y^2} \\frac{dy}{dx} = x\n",
    "$$\n",
    "\n",
    "$$\n",
    "\\int \\frac{1}{y^2} dy = \\int x dx\n",
    "$$\n",
    "\n",
    "$$\n",
    "- \\frac{1}{y} + c_1 = \\frac{x^2}{2} + c_2\n",
    "$$\n",
    "\n",
    "$$\n",
    "y = \\frac{-2}{x^2 + C}, C = 2(c_2 - c_1)\n",
    "$$\n",
    "\n",
    "We now solve for the initial condition:\n",
    "\n",
    "$$\n",
    "y(0) = 1 = \\frac{-2}{C} \\implies C = -2\n",
    "$$\n",
    "\n",
    "Which gives us:\n",
    "$$\n",
    "y = \\frac{-2}{x^2 - 2}\n",
    "$$"
   ]
  },
  {
   "cell_type": "markdown",
   "metadata": {},
   "source": [
    "### 2b: Do 4 steps of Euler’s method with h = 0.1. Compute the error at the last step.\n",
    "\n",
    "$$\n",
    "y_0 = 1, x_0 = 0\n",
    "$$\n",
    "\n",
    "i: 0, \n",
    "$$\n",
    "y_1 = y_0 + h*f(x_0, y_0)\n",
    "\\\\ y_1 = 1 + 0.1*(0*1) = 1\n",
    "\\\\ x_1 = x_0 + h = 0.1\n",
    "$$\n",
    "\n",
    "i: 1, \n",
    "$$\n",
    "y_2 = y_1 + h*f(x_1, y_1)\n",
    "\\\\ y_2 = 1 + 0.1*(0.1*1^2) = 1.01\n",
    "\\\\ x_2 = x_1 + h = 0.2\n",
    "$$\n",
    "\n",
    "i: 2, \n",
    "$$\n",
    "y_3 = y_2 + h*f(x_2, y_2)\n",
    "\\\\ y_3 = 1.01 + 0.1*(0.2*(1.01)^2) = 1.030402\n",
    "\\\\ x_3 = x_2 + h = 0.3\n",
    "$$\n",
    "\n",
    "i: 3, \n",
    "$$\n",
    "y_4 = y_3 + h*f(x_2, y_2)\n",
    "\\\\ y_4 = 1.030402 + 0.1*(0.3*(1.030402)^2) = 1.0622538484\n",
    "\\\\ x_4 = x_3 + h = 0.4\n",
    "$$\n",
    "\n",
    "After 4 iterations we have:\n",
    "\n",
    "$$\n",
    "y_4 = 1.0622538484\n",
    "\\\\ x_4 = 0.4\n",
    "$$"
   ]
  },
  {
   "cell_type": "markdown",
   "metadata": {},
   "source": [
    "The error is then:\n",
    "$$\n",
    "e = |25/23 - 1.0622538484| \\approx 0.0247\n",
    "$$"
   ]
  },
  {
   "cell_type": "markdown",
   "metadata": {},
   "source": [
    "### Do 2 steps of Heuns method with h = 0.2. Compute the error at the last step."
   ]
  },
  {
   "cell_type": "markdown",
   "metadata": {},
   "source": [
    "$$\n",
    "f(x, y) = xy^2\n",
    "\\\\ h = 0.2\n",
    "\\\\ (x_0, y_0) = (0,1)\n",
    "$$\n",
    "\n",
    "$$\n",
    "\\begin{align*}\n",
    "   \\mb{u}_{n+1} &= \\mb{y}_n + h \\mb{f}(x_n, \\mb{y}_n), \\\\ \n",
    "   \\mb{y}_{n+1} &= \\mb{y}_n + \\frac{h}{2} \\big(\\mb{f}(x_n,\\mb{y}_n) + \\mb{f}(x_{n+1},\\mb{u}_{n+1}) \\big).\n",
    "\\end{align*}\n",
    "$$"
   ]
  },
  {
   "cell_type": "markdown",
   "metadata": {},
   "source": [
    "Iteration 1:\n",
    "\n",
    "$$\n",
    "\\begin{align*}\n",
    "   \\mb{u}_{1} &= \\mb{y}_0 + h \\mb{f}(x_0, \\mb{y}_0) = 1, \\\\ \n",
    "   \\mb{y}_{1} &= \\mb{y}_0 + \\frac{h}{2} \\big(\\mb{f}(x_0,\\mb{y}_0) + \\mb{f}(x_{1},\\mb{u}_{1}) \\big) \\\\\n",
    "   &= 1 + 0.1 * ( 0 + 0.2*1^2)\n",
    "   \\\\ &= 1.02\n",
    "\\end{align*}\n",
    "$$\n",
    "\n",
    "Iteration 2:\n",
    "\n",
    "$$\n",
    "\\begin{align*}\n",
    "   \\mb{u}_{2} &= \\mb{y}_1 + h \\mb{f}(x_1, \\mb{y}_1) \\\\ \n",
    "   &= 1.02 + 0.2*\\mb{f}(0.2, 1.02) = 1.061616 \\\\\n",
    "   \\mb{y}_{2} &= \\mb{y}_1 + \\frac{h}{2} \\big(\\mb{f}(x_1,\\mb{y}_1) + \\mb{f}(x_{2},\\mb{u}_{2}) \\big) \\\\\n",
    "   &= 1.02 + 0.1*(0.2*1.02^2 + 0.4*1.061616^2 )\n",
    "   \\\\ &= 1.0858891413\n",
    "\\end{align*}\n",
    "$$\n",
    "\n",
    "\n",
    "Error:\n",
    "$$\n",
    "e = |25/23 - 1.0858891413| \\approx 0.001067\n",
    "$$\n"
   ]
  },
  {
   "cell_type": "markdown",
   "metadata": {},
   "source": [
    "### Do 1 step of the 4th order Runge-Kutta method (see Problem 4) with h = 0.4. Compute the error at the end."
   ]
  },
  {
   "cell_type": "markdown",
   "metadata": {},
   "source": [
    "\n",
    "\\begin{align}\n",
    "    k_1 &= f(x_n, y_n)\n",
    "    \\\\ k_2 &= f(x_n + \\frac{h}{2},y_n+\\frac{h}{2}k_1)\n",
    "    \\\\ k_3 &= f(x_n+\\frac{h}{2},y_n+\\frac{h}{2}k_2)\n",
    "    \\\\ k_4 &= f(x_n +h,y_n +hk_3)\n",
    "    \\\\\n",
    "    \\\\ y_{n+1} &= y_n + h(k_1 + 2k_2 + 2k_3 + k_4).\n",
    "\\end{align}"
   ]
  },
  {
   "cell_type": "markdown",
   "metadata": {},
   "source": [
    "\\begin{align}\n",
    "    k_1 &= f(x_0, y_0)\n",
    "    \\\\ &= \\underline{0}\n",
    "    \\\\ k_2 &= f(x_0 + 0.2,y_0+\\frac{0.4}{2} * 0)\n",
    "    \\\\ &= f(0.2,1) = \\underline{0.2}\n",
    "    \\\\ k_3 &= f(x_0 + \\frac{h}{2},y_n+\\frac{h}{2}k_2)\n",
    "    \\\\ &= f(0.2,1 + 0.2 * 0.2) = 0.21632\n",
    "    \\\\ k_4 &= f(x_0 + h, y_0 + h * k_3)\n",
    "    \\\\ &= f(0.4, 1 +0.4 * .21632) = 0.4722172379\n",
    "    \\\\\n",
    "    \\\\ y_{1} &= 1 + 0.2 * (0 + 2* 0.2 + 2 * .21632 + 0.4722172379)\n",
    "    \\\\ y_{1} &= 1.0869904\n",
    "\\end{align}\n",
    "\n",
    "This gives us an error of:\n",
    "$$\n",
    "e = |25/23 - 1.0869904| = 3.39 * 10^{-5}\n",
    "$$"
   ]
  },
  {
   "cell_type": "markdown",
   "metadata": {},
   "source": [
    "### In each case, 4 function evaluations have been done. Which of the methods performed best?\n",
    "\n",
    "Runge-Kutta performed best."
   ]
  },
  {
   "cell_type": "markdown",
   "metadata": {},
   "source": [
    "## Task 3: Consider two charges (in one dimension), with positions $u_1(x)$ and $u_2(x)$ at time $x > 0$."
   ]
  },
  {
   "cell_type": "markdown",
   "metadata": {},
   "source": [
    "$$\n",
    "u''_1(x) = - \\frac{1}{(u_1(x) - u_2(x))^2}\n",
    "u''_2(x) = \\frac{1}{(u_1(x) - u_2(x))^2}\n",
    "$$\n",
    "\n",
    "$$\n",
    "u_1(0) = 0, u_1'(0) = 1, u_2(0) = 1, u_2'(0) = 0\n",
    "$$"
   ]
  },
  {
   "cell_type": "markdown",
   "metadata": {},
   "source": [
    "### Rewrite  the charges to a system of first order differential equations."
   ]
  },
  {
   "cell_type": "markdown",
   "metadata": {},
   "source": [
    "$$\n",
    "y_1(x) = u_1(x)\n",
    "\\\\ y_2(x) = u'_1(x)\n",
    "\\\\ y_3(x) = u_2(x)\n",
    "\\\\ y_4(x) = u'_2(x)\n",
    "$$\n",
    "\n",
    "$$\n",
    "y'_1 = y_2\n",
    "\\\\ y'_2 = - \\frac{1}{(u_1(x) - u_2(x))^2}\n",
    "\\\\ y'_3 = y_4(x)\n",
    "\\\\ y'_4(x) = \\frac{1}{(u_1(x) - u_2(x))^2}\n",
    "$$"
   ]
  },
  {
   "cell_type": "markdown",
   "metadata": {},
   "source": [
    "### Do one step by Heun’s method, using h = 0.1 to solve this system of equations."
   ]
  },
  {
   "cell_type": "markdown",
   "metadata": {},
   "source": [
    "$$\n",
    "y_0 =\n",
    "\\begin{bmatrix}\n",
    "    0 \\\\ \n",
    "    1 \\\\ \n",
    "    1 \\\\ \n",
    "    0  \n",
    "\\end{bmatrix}\n",
    "$$\n",
    "\n",
    "$$\n",
    "k_1 =\n",
    "\\begin{bmatrix}\n",
    "    1 \\\\ \n",
    "    -1 \\\\ \n",
    "    0 \\\\ \n",
    "    1  \n",
    "\\end{bmatrix}\n",
    "$$\n",
    "\n",
    "$$\n",
    "k_2 =\n",
    "\\begin{bmatrix}\n",
    "    0 \\\\ \n",
    "    1 \\\\ \n",
    "    1 \\\\ \n",
    "    0  \n",
    "\\end{bmatrix}\n",
    "+ 0.1 *\n",
    "\\begin{bmatrix}\n",
    "    1 \\\\ \n",
    "    -1 \\\\ \n",
    "    0 \\\\ \n",
    "    1  \n",
    "\\end{bmatrix}\n",
    "=\n",
    "\\begin{bmatrix}\n",
    "    0.1 \\\\ \n",
    "    0.9 \\\\ \n",
    "    1 \\\\ \n",
    "    0.1  \n",
    "\\end{bmatrix}\n",
    "$$\n",
    "\n",
    "$$\n",
    "y_1 = \n",
    "\\begin{bmatrix}\n",
    "    0 \\\\ \n",
    "    1 \\\\ \n",
    "    1 \\\\ \n",
    "    0  \n",
    "\\end{bmatrix}\n",
    "+ \\frac{0.1}{2} * \\Bigg (\n",
    "\\begin{bmatrix}\n",
    "    1 \\\\ \n",
    "    -1 \\\\ \n",
    "    0 \\\\ \n",
    "    1  \n",
    "\\end{bmatrix}\n",
    "+\n",
    "\\begin{bmatrix}\n",
    "    0.1 \\\\ \n",
    "    0.9 \\\\ \n",
    "    1 \\\\ \n",
    "    0.1  \n",
    "\\end{bmatrix}\n",
    "\\Bigg )\n",
    "=\n",
    "\\begin{bmatrix}\n",
    "    0.055 \\\\ \n",
    "    0.99 \\\\ \n",
    "    1.05 \\\\ \n",
    "    1.055\n",
    "\\end{bmatrix}\n",
    "$$\n",
    "\n",
    "These do not match at all."
   ]
  },
  {
   "cell_type": "markdown",
   "metadata": {},
   "source": [
    "### Solve the problem numerically over the interval [0, 1], by a method of your own choice"
   ]
  },
  {
   "cell_type": "code",
   "execution_count": 4,
   "metadata": {},
   "outputs": [],
   "source": [
    "%matplotlib inline\n",
    "\n",
    "from numpy import *\n",
    "from numpy.linalg import norm\n",
    "from matplotlib.pyplot import *\n",
    "newparams = {'figure.figsize': (8.0, 4.0), 'axes.grid': True,\n",
    "             'lines.markersize': 8, 'lines.linewidth': 2,\n",
    "             'font.size': 14}\n",
    "rcParams.update(newparams)"
   ]
  },
  {
   "cell_type": "code",
   "execution_count": 6,
   "metadata": {},
   "outputs": [],
   "source": [
    "def heun(f, x, y, h):\n",
    "    # One step of Heun's method\n",
    "    k1 = f(x, y)\n",
    "    k2 = f(x+h, y+h*k1)\n",
    "    y_next = y + 0.5*h*(k1+k2)\n",
    "    x_next = x + h\n",
    "    return x_next, y_next\n",
    "\n",
    "def ode_solver(f, x0, xend, y0, h, method):\n",
    "    # Generic solver for ODEs\n",
    "    #    y' = f(x,y), y(a)=y0\n",
    "    # Input: f, the integration interval x0 and xend, \n",
    "    #        the stepsize h and the method of choice.  \n",
    "    #   \n",
    "    # Output: Arrays with the x- and the corresponding y-values. \n",
    "    \n",
    "    # Initializing:\n",
    "    y_num = array([y0])    # Array for the solution y \n",
    "    x_num = array([x0])    # Array for the x-values\n",
    "\n",
    "    xn = x0                # Running values for x and y\n",
    "    yn = y0 \n",
    "\n",
    "    # Main loop\n",
    "    while xn < xend - 1.e-10:            # Buffer for truncation errors        \n",
    "        xn, yn = method(f, xn, yn, h)    # Do one step by the method of choice\n",
    "        \n",
    "        # Extend the arrays for x and y\n",
    "        y_num = concatenate((y_num, array([yn])))\n",
    "        x_num = append(x_num,xn)\n",
    "        \n",
    "    return x_num, y_num"
   ]
  },
  {
   "cell_type": "code",
   "execution_count": 9,
   "metadata": {},
   "outputs": [
    {
     "name": "stdout",
     "output_type": "stream",
     "text": [
      "y0 og y1:\n",
      "[[0.       1.       1.       0.      ]\n",
      " [0.095    0.871875 1.005    0.128125]]\n",
      "[[ 0.          1.          1.          0.        ]\n",
      " [ 0.095       0.871875    1.005       0.128125  ]\n",
      " [ 0.17314859  0.43918885  1.02685141  0.56081115]\n",
      " [-0.12095349 -2.94128949  1.42095349  3.94128949]\n",
      " [-0.415188   -2.94339924  1.815188    3.94339924]\n",
      " [-0.70963334 -2.94550641  2.20963334  3.94550641]\n",
      " [-1.00428928 -2.94761101  2.60428928  3.94761101]\n",
      " [-1.29915554 -2.94971304  2.99915554  3.94971304]\n",
      " [-1.59423189 -2.95181251  3.39423189  3.95181251]\n",
      " [-1.88951805 -2.95390943  3.78951805  3.95390943]\n",
      " [-2.18501377 -2.9560038   4.18501377  3.9560038 ]]\n"
     ]
    },
    {
     "data": {
      "image/png": "[encoded data removed]",
      "text/plain": [
       "<Figure size 576x288 with 1 Axes>"
      ]
     },
     "metadata": {
      "needs_background": "light"
     },
     "output_type": "display_data"
    }
   ],
   "source": [
    "def f(x, y):\n",
    "    return array(\n",
    "        [\n",
    "            y[1],\n",
    "            -1 / (y[1]-y[3]) ** 2,\n",
    "            y[3],\n",
    "            1 / (y[1]-y[3]) ** 2,\n",
    "        ]\n",
    "    )\n",
    "\n",
    "x0, xend = 0, 1\n",
    "y0 = array([0, 1, 1, 0])\n",
    "\n",
    "# Solve the equation\n",
    "x_lv, y_lv = ode_solver(f, x0, xend, y0, h=0.1, method=heun)\n",
    "\n",
    "# Printer ut y0 og y1\n",
    "print('y0 og y1:')\n",
    "print(y_lv[:2])\n",
    "\n",
    "print(y_lv)\n",
    "\n",
    "# Plot the solution\n",
    "plot(x_lv, y_lv);\n",
    "xlabel('x')\n",
    "grid(True)"
   ]
  },
  {
   "cell_type": "markdown",
   "metadata": {},
   "source": [
    "## Task 4: Runge–Kutta method\n",
    "### Implement the classical Runge–Kutta method (RK4) and verify numerically that the order is 4."
   ]
  },
  {
   "cell_type": "code",
   "execution_count": 12,
   "metadata": {},
   "outputs": [
    {
     "name": "stdout",
     "output_type": "stream",
     "text": [
      "h           error          order \n",
      "----------------------------------\n",
      "1.000e-01   1.625e-06       nan\n",
      "5.000e-02   1.025e-07      3.99\n",
      "2.500e-02   6.407e-09      4.00\n",
      "1.250e-02   3.999e-10      4.00\n",
      "6.250e-03   2.497e-11      4.00\n",
      "3.125e-03   1.559e-12      4.00\n",
      "1.563e-03   9.520e-14      4.03\n"
     ]
    }
   ],
   "source": [
    "def rk4(f, x, y, h):\n",
    "    k1 = f(x, y)\n",
    "    k2 = f(x + h / 2, y + h / 2 * k1)\n",
    "    k3 = f(x + h / 2, y + h / 2 * k2)\n",
    "    k4 = f(x + h, y + h * k3)\n",
    "    \n",
    "    y_next = y + h*(k1 + 2*k2 + 2*k3 + k4)/6\n",
    "    x_next = x + h\n",
    "    return x_next, y_next\n",
    "\n",
    "# Test the order of a method, given a test equation with exact solution\n",
    "def f1(x, y):\n",
    "    return -2*x*y\n",
    "\n",
    "def y_eksakt(x):\n",
    "    return exp(-x**2)\n",
    "\n",
    "h = 0.1\n",
    "x0, xend= 0, 1\n",
    "y0 = 1\n",
    "\n",
    "print('h           error          order \\n----------------------------------')\n",
    " \n",
    "for n in range(7):\n",
    "    x_num, y_num = ode_solver(f1, x0, xend, y0, h, rk4)    \n",
    "    error = norm(y_eksakt(xend)-y_num[-1])       # Error in the end point\n",
    "    if n is 0:                 \n",
    "        order = NaN          # Nothing to compare              \n",
    "    else:\n",
    "        order = log2(error_old/error)     # Calculate  the order p\n",
    "    print(format('{:.3e}   {:.3e}   {:7.2f}'.format( h, error, order))) \n",
    "    h = 0.5*h               # Reduce the stepsize\n",
    "    error_old = error "
   ]
  },
  {
   "cell_type": "markdown",
   "metadata": {},
   "source": [
    "### Use RK4 to solve the Lotka–Volterra equation"
   ]
  },
  {
   "cell_type": "code",
   "execution_count": 13,
   "metadata": {},
   "outputs": [],
   "source": [
    "def lotka_volterra(x, y):\n",
    "    # Lotka-Volterra equation\n",
    "    # Initial values y(0) = [2.0, 0.5]\n",
    "    alpha, beta, delta, gamma = 2, 1, 0.5, 1     # Parameters\n",
    "    dy = array([alpha*y[0]-beta*y[0]*y[1], \n",
    "                delta*y[0]*y[1]-gamma*y[1]])\n",
    "    return dy"
   ]
  },
  {
   "cell_type": "code",
   "execution_count": 22,
   "metadata": {},
   "outputs": [
    {
     "data": {
      "image/png": "[encoded data removed]",
      "text/plain": [
       "<Figure size 576x288 with 1 Axes>"
      ]
     },
     "metadata": {
      "needs_background": "light"
     },
     "output_type": "display_data"
    }
   ],
   "source": [
    "f = lotka_volterra\n",
    "x0, xend = 0, 10\n",
    "y0 = array([2, 0.5])\n",
    "h = 0.5\n",
    "\n",
    "x_lv, y_lv = ode_solver(f, x0, xend, y0, h, rk4)\n",
    "plot(x_lv,y_lv, 'o');\n",
    "xlabel('x')\n",
    "title('Lotka-Volterra med h=0.5')\n",
    "legend(['y1','y2'],loc=1);\n",
    "\n",
    "h = 0.1\n",
    "\n",
    "x_lv, y_lv = ode_solver(f, x0, xend, y0, h, rk4)\n",
    "plot(x_lv,y_lv);\n",
    "xlabel('x')\n",
    "title('Lotka-Volterra med h=0.1')\n",
    "legend(['y1','y2'],loc=1);"
   ]
  },
  {
   "cell_type": "code",
   "execution_count": null,
   "metadata": {},
   "outputs": [],
   "source": []
  }
 ],
 "metadata": {
  "kernelspec": {
   "display_name": "Python 3",
   "language": "python",
   "name": "python3"
  },
  "language_info": {
   "codemirror_mode": {
    "name": "ipython",
    "version": 3
   },
   "file_extension": ".py",
   "mimetype": "text/x-python",
   "name": "python",
   "nbconvert_exporter": "python",
   "pygments_lexer": "ipython3",
   "version": "3.7.1"
  }
 },
 "nbformat": 4,
 "nbformat_minor": 2
}
